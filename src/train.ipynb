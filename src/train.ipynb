{
 "cells": [
  {
   "cell_type": "code",
   "execution_count": 2,
   "id": "adult-perth",
   "metadata": {},
   "outputs": [
    {
     "name": "stdout",
     "output_type": "stream",
     "text": [
      "checkpoint_checkpoint_157500.pt\n"
     ]
    }
   ],
   "source": [
    "import numpy as np\n",
    "import os\n",
    "model_folder_path = './models'\n",
    "checkpoint_name = np.sort(os.listdir(model_folder_path))[-1]\n",
    "print(checkpoint_name)\n",
    "trained_model_path = model_folder_path + '/{}'.format(checkpoint_name)\n",
    "n_iters = 1250"
   ]
  },
  {
   "cell_type": "code",
   "execution_count": 3,
   "id": "hawaiian-harris",
   "metadata": {},
   "outputs": [],
   "source": [
    "resume_epoch = int( int( checkpoint_name[-9:-3] ) / n_iters )"
   ]
  },
  {
   "cell_type": "code",
   "execution_count": null,
   "id": "comparable-colleague",
   "metadata": {},
   "outputs": [],
   "source": [
    "os.system('python train_cond_flow.py --resume_training=True --previously_saved_epoch={}'.format(resume_epoch))"
   ]
  },
  {
   "cell_type": "code",
   "execution_count": null,
   "id": "other-accused",
   "metadata": {},
   "outputs": [],
   "source": []
  }
 ],
 "metadata": {
  "kernelspec": {
   "display_name": "Python 3",
   "language": "python",
   "name": "python3"
  },
  "language_info": {
   "codemirror_mode": {
    "name": "ipython",
    "version": 3
   },
   "file_extension": ".py",
   "mimetype": "text/x-python",
   "name": "python",
   "nbconvert_exporter": "python",
   "pygments_lexer": "ipython3",
   "version": "3.8.8"
  }
 },
 "nbformat": 4,
 "nbformat_minor": 5
}
